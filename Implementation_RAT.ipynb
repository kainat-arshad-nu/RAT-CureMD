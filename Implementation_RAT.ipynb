{
  "nbformat": 4,
  "nbformat_minor": 0,
  "metadata": {
    "colab": {
      "name": "Implementation RAT.ipynb",
      "provenance": []
    },
    "kernelspec": {
      "name": "python3",
      "display_name": "Python 3"
    },
    "language_info": {
      "name": "python"
    },
    "accelerator": "GPU",
    "gpuClass": "standard"
  },
  "cells": [
    {
      "cell_type": "code",
      "execution_count": 200,
      "metadata": {
        "id": "_KOwjm8kCljx"
      },
      "outputs": [],
      "source": [
        "import pandas as pd\n",
        "import numpy as np\n",
        "import matplotlib.pyplot as plt\n",
        "import seaborn as sns\n",
        "from sklearn.model_selection import train_test_split\n",
        "from keras.models import Sequential\n",
        "from keras.layers import Dense\n",
        "from sklearn.ensemble import RandomForestClassifier\n",
        "from sklearn.feature_selection import SelectFromModel\n",
        "from sklearn.preprocessing import MinMaxScaler"
      ]
    },
    {
      "cell_type": "code",
      "source": [
        "df = pd.read_csv('heart.csv')\n",
        "df.head()"
      ],
      "metadata": {
        "colab": {
          "base_uri": "https://localhost:8080/",
          "height": 270
        },
        "id": "r8aLctdkCzga",
        "outputId": "5a408adf-d50b-4914-a66d-302626f5e3bd"
      },
      "execution_count": 201,
      "outputs": [
        {
          "output_type": "execute_result",
          "data": {
            "text/plain": [
              "   Age Sex ChestPainType  RestingBP  Cholesterol  FastingBS RestingECG  MaxHR  \\\n",
              "0   40   M           ATA        140          289          0     Normal    172   \n",
              "1   49   F           NAP        160          180          0     Normal    156   \n",
              "2   37   M           ATA        130          283          0         ST     98   \n",
              "3   48   F           ASY        138          214          0     Normal    108   \n",
              "4   54   M           NAP        150          195          0     Normal    122   \n",
              "\n",
              "  ExerciseAngina  Oldpeak ST_Slope  HeartDisease  \n",
              "0              N      0.0       Up             0  \n",
              "1              N      1.0     Flat             1  \n",
              "2              N      0.0       Up             0  \n",
              "3              Y      1.5     Flat             1  \n",
              "4              N      0.0       Up             0  "
            ],
            "text/html": [
              "\n",
              "  <div id=\"df-e4231d99-42c9-4cd5-b0e9-42bc173bce6f\">\n",
              "    <div class=\"colab-df-container\">\n",
              "      <div>\n",
              "<style scoped>\n",
              "    .dataframe tbody tr th:only-of-type {\n",
              "        vertical-align: middle;\n",
              "    }\n",
              "\n",
              "    .dataframe tbody tr th {\n",
              "        vertical-align: top;\n",
              "    }\n",
              "\n",
              "    .dataframe thead th {\n",
              "        text-align: right;\n",
              "    }\n",
              "</style>\n",
              "<table border=\"1\" class=\"dataframe\">\n",
              "  <thead>\n",
              "    <tr style=\"text-align: right;\">\n",
              "      <th></th>\n",
              "      <th>Age</th>\n",
              "      <th>Sex</th>\n",
              "      <th>ChestPainType</th>\n",
              "      <th>RestingBP</th>\n",
              "      <th>Cholesterol</th>\n",
              "      <th>FastingBS</th>\n",
              "      <th>RestingECG</th>\n",
              "      <th>MaxHR</th>\n",
              "      <th>ExerciseAngina</th>\n",
              "      <th>Oldpeak</th>\n",
              "      <th>ST_Slope</th>\n",
              "      <th>HeartDisease</th>\n",
              "    </tr>\n",
              "  </thead>\n",
              "  <tbody>\n",
              "    <tr>\n",
              "      <th>0</th>\n",
              "      <td>40</td>\n",
              "      <td>M</td>\n",
              "      <td>ATA</td>\n",
              "      <td>140</td>\n",
              "      <td>289</td>\n",
              "      <td>0</td>\n",
              "      <td>Normal</td>\n",
              "      <td>172</td>\n",
              "      <td>N</td>\n",
              "      <td>0.0</td>\n",
              "      <td>Up</td>\n",
              "      <td>0</td>\n",
              "    </tr>\n",
              "    <tr>\n",
              "      <th>1</th>\n",
              "      <td>49</td>\n",
              "      <td>F</td>\n",
              "      <td>NAP</td>\n",
              "      <td>160</td>\n",
              "      <td>180</td>\n",
              "      <td>0</td>\n",
              "      <td>Normal</td>\n",
              "      <td>156</td>\n",
              "      <td>N</td>\n",
              "      <td>1.0</td>\n",
              "      <td>Flat</td>\n",
              "      <td>1</td>\n",
              "    </tr>\n",
              "    <tr>\n",
              "      <th>2</th>\n",
              "      <td>37</td>\n",
              "      <td>M</td>\n",
              "      <td>ATA</td>\n",
              "      <td>130</td>\n",
              "      <td>283</td>\n",
              "      <td>0</td>\n",
              "      <td>ST</td>\n",
              "      <td>98</td>\n",
              "      <td>N</td>\n",
              "      <td>0.0</td>\n",
              "      <td>Up</td>\n",
              "      <td>0</td>\n",
              "    </tr>\n",
              "    <tr>\n",
              "      <th>3</th>\n",
              "      <td>48</td>\n",
              "      <td>F</td>\n",
              "      <td>ASY</td>\n",
              "      <td>138</td>\n",
              "      <td>214</td>\n",
              "      <td>0</td>\n",
              "      <td>Normal</td>\n",
              "      <td>108</td>\n",
              "      <td>Y</td>\n",
              "      <td>1.5</td>\n",
              "      <td>Flat</td>\n",
              "      <td>1</td>\n",
              "    </tr>\n",
              "    <tr>\n",
              "      <th>4</th>\n",
              "      <td>54</td>\n",
              "      <td>M</td>\n",
              "      <td>NAP</td>\n",
              "      <td>150</td>\n",
              "      <td>195</td>\n",
              "      <td>0</td>\n",
              "      <td>Normal</td>\n",
              "      <td>122</td>\n",
              "      <td>N</td>\n",
              "      <td>0.0</td>\n",
              "      <td>Up</td>\n",
              "      <td>0</td>\n",
              "    </tr>\n",
              "  </tbody>\n",
              "</table>\n",
              "</div>\n",
              "      <button class=\"colab-df-convert\" onclick=\"convertToInteractive('df-e4231d99-42c9-4cd5-b0e9-42bc173bce6f')\"\n",
              "              title=\"Convert this dataframe to an interactive table.\"\n",
              "              style=\"display:none;\">\n",
              "        \n",
              "  <svg xmlns=\"http://www.w3.org/2000/svg\" height=\"24px\"viewBox=\"0 0 24 24\"\n",
              "       width=\"24px\">\n",
              "    <path d=\"M0 0h24v24H0V0z\" fill=\"none\"/>\n",
              "    <path d=\"M18.56 5.44l.94 2.06.94-2.06 2.06-.94-2.06-.94-.94-2.06-.94 2.06-2.06.94zm-11 1L8.5 8.5l.94-2.06 2.06-.94-2.06-.94L8.5 2.5l-.94 2.06-2.06.94zm10 10l.94 2.06.94-2.06 2.06-.94-2.06-.94-.94-2.06-.94 2.06-2.06.94z\"/><path d=\"M17.41 7.96l-1.37-1.37c-.4-.4-.92-.59-1.43-.59-.52 0-1.04.2-1.43.59L10.3 9.45l-7.72 7.72c-.78.78-.78 2.05 0 2.83L4 21.41c.39.39.9.59 1.41.59.51 0 1.02-.2 1.41-.59l7.78-7.78 2.81-2.81c.8-.78.8-2.07 0-2.86zM5.41 20L4 18.59l7.72-7.72 1.47 1.35L5.41 20z\"/>\n",
              "  </svg>\n",
              "      </button>\n",
              "      \n",
              "  <style>\n",
              "    .colab-df-container {\n",
              "      display:flex;\n",
              "      flex-wrap:wrap;\n",
              "      gap: 12px;\n",
              "    }\n",
              "\n",
              "    .colab-df-convert {\n",
              "      background-color: #E8F0FE;\n",
              "      border: none;\n",
              "      border-radius: 50%;\n",
              "      cursor: pointer;\n",
              "      display: none;\n",
              "      fill: #1967D2;\n",
              "      height: 32px;\n",
              "      padding: 0 0 0 0;\n",
              "      width: 32px;\n",
              "    }\n",
              "\n",
              "    .colab-df-convert:hover {\n",
              "      background-color: #E2EBFA;\n",
              "      box-shadow: 0px 1px 2px rgba(60, 64, 67, 0.3), 0px 1px 3px 1px rgba(60, 64, 67, 0.15);\n",
              "      fill: #174EA6;\n",
              "    }\n",
              "\n",
              "    [theme=dark] .colab-df-convert {\n",
              "      background-color: #3B4455;\n",
              "      fill: #D2E3FC;\n",
              "    }\n",
              "\n",
              "    [theme=dark] .colab-df-convert:hover {\n",
              "      background-color: #434B5C;\n",
              "      box-shadow: 0px 1px 3px 1px rgba(0, 0, 0, 0.15);\n",
              "      filter: drop-shadow(0px 1px 2px rgba(0, 0, 0, 0.3));\n",
              "      fill: #FFFFFF;\n",
              "    }\n",
              "  </style>\n",
              "\n",
              "      <script>\n",
              "        const buttonEl =\n",
              "          document.querySelector('#df-e4231d99-42c9-4cd5-b0e9-42bc173bce6f button.colab-df-convert');\n",
              "        buttonEl.style.display =\n",
              "          google.colab.kernel.accessAllowed ? 'block' : 'none';\n",
              "\n",
              "        async function convertToInteractive(key) {\n",
              "          const element = document.querySelector('#df-e4231d99-42c9-4cd5-b0e9-42bc173bce6f');\n",
              "          const dataTable =\n",
              "            await google.colab.kernel.invokeFunction('convertToInteractive',\n",
              "                                                     [key], {});\n",
              "          if (!dataTable) return;\n",
              "\n",
              "          const docLinkHtml = 'Like what you see? Visit the ' +\n",
              "            '<a target=\"_blank\" href=https://colab.research.google.com/notebooks/data_table.ipynb>data table notebook</a>'\n",
              "            + ' to learn more about interactive tables.';\n",
              "          element.innerHTML = '';\n",
              "          dataTable['output_type'] = 'display_data';\n",
              "          await google.colab.output.renderOutput(dataTable, element);\n",
              "          const docLink = document.createElement('div');\n",
              "          docLink.innerHTML = docLinkHtml;\n",
              "          element.appendChild(docLink);\n",
              "        }\n",
              "      </script>\n",
              "    </div>\n",
              "  </div>\n",
              "  "
            ]
          },
          "metadata": {},
          "execution_count": 201
        }
      ]
    },
    {
      "cell_type": "code",
      "source": [
        "df.info()"
      ],
      "metadata": {
        "colab": {
          "base_uri": "https://localhost:8080/"
        },
        "id": "7S8dhmD5DN7B",
        "outputId": "f2c68d1f-9a89-4d2d-d6f5-2a0e944d37d3"
      },
      "execution_count": 202,
      "outputs": [
        {
          "output_type": "stream",
          "name": "stdout",
          "text": [
            "<class 'pandas.core.frame.DataFrame'>\n",
            "RangeIndex: 918 entries, 0 to 917\n",
            "Data columns (total 12 columns):\n",
            " #   Column          Non-Null Count  Dtype  \n",
            "---  ------          --------------  -----  \n",
            " 0   Age             918 non-null    int64  \n",
            " 1   Sex             918 non-null    object \n",
            " 2   ChestPainType   918 non-null    object \n",
            " 3   RestingBP       918 non-null    int64  \n",
            " 4   Cholesterol     918 non-null    int64  \n",
            " 5   FastingBS       918 non-null    int64  \n",
            " 6   RestingECG      918 non-null    object \n",
            " 7   MaxHR           918 non-null    int64  \n",
            " 8   ExerciseAngina  918 non-null    object \n",
            " 9   Oldpeak         918 non-null    float64\n",
            " 10  ST_Slope        918 non-null    object \n",
            " 11  HeartDisease    918 non-null    int64  \n",
            "dtypes: float64(1), int64(6), object(5)\n",
            "memory usage: 86.2+ KB\n"
          ]
        }
      ]
    },
    {
      "cell_type": "code",
      "source": [
        "df['Sex']= df['Sex'].map({'M': 1, 'F':0})\n",
        "df['ExerciseAngina']= df['ExerciseAngina'].map({'Y': 1, 'N':0})\n",
        "df.drop('ChestPainType', axis=1, inplace=True)\n",
        "df.drop('RestingECG', axis=1, inplace=True)\n",
        "df.drop('ST_Slope', axis=1, inplace=True)"
      ],
      "metadata": {
        "id": "xJb7UnNQMMQV"
      },
      "execution_count": 203,
      "outputs": []
    },
    {
      "cell_type": "code",
      "source": [
        "from sklearn.ensemble import RandomForestClassifier\n",
        "from sklearn.feature_selection import SelectFromModel\n",
        "Y = df.HeartDisease \n",
        "X = df.iloc[:,:8]\n",
        "X_train, X_test, y_train, y_test = train_test_split(X, Y, test_size=0.30, random_state=42)\n",
        "\n",
        "model = RandomForestClassifier()\n",
        "model.fit(X_train, y_train)\n",
        "  \n",
        "best_features = SelectFromModel(model)\n",
        "best_features.fit(X_train, y_train)\n",
        "features = X.columns[:]\n",
        "imp_feature = pd.DataFrame({'Feature': features, 'Importance': model.feature_importances_})\n",
        "plt.figure(figsize=(10,4))\n",
        "plt.title(\"Feature Importance Graphic\")\n",
        "plt.xlabel(\"Importance \")\n",
        "plt.ylabel(\"Features\")\n",
        "plt.barh(imp_feature['Feature'],imp_feature['Importance'])\n",
        "plt.show()"
      ],
      "metadata": {
        "colab": {
          "base_uri": "https://localhost:8080/",
          "height": 295
        },
        "id": "KE2wg8OWZOun",
        "outputId": "011854b2-c11f-401b-aef8-c5a2788a7c5e"
      },
      "execution_count": 204,
      "outputs": [
        {
          "output_type": "display_data",
          "data": {
            "text/plain": [
              "<Figure size 720x288 with 1 Axes>"
            ],
            "image/png": "[encoded data removed]"
          },
          "metadata": {
            "needs_background": "light"
          }
        }
      ]
    },
    {
      "cell_type": "code",
      "source": [
        "selected_feat = ['Oldpeak','ExerciseAngina','MaxHR','Cholesterol','Age','Sex','RestingBP']"
      ],
      "metadata": {
        "id": "NwPZ4p0jeaI-"
      },
      "execution_count": 205,
      "outputs": []
    },
    {
      "cell_type": "code",
      "source": [
        "df['Age'] , quarantile = pd.qcut(df['Age'], 2, labels = False, retbins = True, duplicates = \"drop\")\n",
        "df['RestingBP'] , quarantile = pd.qcut(df['RestingBP'], 2, labels = False, retbins = True, duplicates = \"drop\")\n",
        "df['Cholesterol'] , quarantile = pd.qcut(df['Cholesterol'], 2, labels = False, retbins = True, duplicates = \"drop\")\n",
        "df['MaxHR'] , quarantile = pd.qcut(df['MaxHR'], 2, labels = False, retbins = True, duplicates = \"drop\")\n",
        "df['Oldpeak'] , quarantile = pd.qcut(df['Oldpeak'], 2, labels = False, retbins = True, duplicates = \"drop\")"
      ],
      "metadata": {
        "id": "OvGHDkOQQlPj"
      },
      "execution_count": 206,
      "outputs": []
    },
    {
      "cell_type": "code",
      "source": [
        "print(quarantile)"
      ],
      "metadata": {
        "colab": {
          "base_uri": "https://localhost:8080/"
        },
        "id": "UjL4lhuvQ8GV",
        "outputId": "5369f871-04df-40e7-91da-70c2b1b9f06d"
      },
      "execution_count": 207,
      "outputs": [
        {
          "output_type": "stream",
          "name": "stdout",
          "text": [
            "[-2.6  0.6  6.2]\n"
          ]
        }
      ]
    },
    {
      "cell_type": "code",
      "source": [
        "df.head()"
      ],
      "metadata": {
        "colab": {
          "base_uri": "https://localhost:8080/",
          "height": 206
        },
        "id": "YPxl044-NKST",
        "outputId": "1cf8f48e-c3af-4b66-c87f-bcefbb56b73d"
      },
      "execution_count": 208,
      "outputs": [
        {
          "output_type": "execute_result",
          "data": {
            "text/plain": [
              "   Age  Sex  RestingBP  Cholesterol  FastingBS  MaxHR  ExerciseAngina  \\\n",
              "0    0    1          1            1          0      1               0   \n",
              "1    0    0          1            0          0      1               0   \n",
              "2    0    1          0            1          0      0               0   \n",
              "3    0    0          1            0          0      0               1   \n",
              "4    0    1          1            0          0      0               0   \n",
              "\n",
              "   Oldpeak  HeartDisease  \n",
              "0        0             0  \n",
              "1        1             1  \n",
              "2        0             0  \n",
              "3        1             1  \n",
              "4        0             0  "
            ],
            "text/html": [
              "\n",
              "  <div id=\"df-6aea1b4a-35cb-4bd0-945d-8de47c31103c\">\n",
              "    <div class=\"colab-df-container\">\n",
              "      <div>\n",
              "<style scoped>\n",
              "    .dataframe tbody tr th:only-of-type {\n",
              "        vertical-align: middle;\n",
              "    }\n",
              "\n",
              "    .dataframe tbody tr th {\n",
              "        vertical-align: top;\n",
              "    }\n",
              "\n",
              "    .dataframe thead th {\n",
              "        text-align: right;\n",
              "    }\n",
              "</style>\n",
              "<table border=\"1\" class=\"dataframe\">\n",
              "  <thead>\n",
              "    <tr style=\"text-align: right;\">\n",
              "      <th></th>\n",
              "      <th>Age</th>\n",
              "      <th>Sex</th>\n",
              "      <th>RestingBP</th>\n",
              "      <th>Cholesterol</th>\n",
              "      <th>FastingBS</th>\n",
              "      <th>MaxHR</th>\n",
              "      <th>ExerciseAngina</th>\n",
              "      <th>Oldpeak</th>\n",
              "      <th>HeartDisease</th>\n",
              "    </tr>\n",
              "  </thead>\n",
              "  <tbody>\n",
              "    <tr>\n",
              "      <th>0</th>\n",
              "      <td>0</td>\n",
              "      <td>1</td>\n",
              "      <td>1</td>\n",
              "      <td>1</td>\n",
              "      <td>0</td>\n",
              "      <td>1</td>\n",
              "      <td>0</td>\n",
              "      <td>0</td>\n",
              "      <td>0</td>\n",
              "    </tr>\n",
              "    <tr>\n",
              "      <th>1</th>\n",
              "      <td>0</td>\n",
              "      <td>0</td>\n",
              "      <td>1</td>\n",
              "      <td>0</td>\n",
              "      <td>0</td>\n",
              "      <td>1</td>\n",
              "      <td>0</td>\n",
              "      <td>1</td>\n",
              "      <td>1</td>\n",
              "    </tr>\n",
              "    <tr>\n",
              "      <th>2</th>\n",
              "      <td>0</td>\n",
              "      <td>1</td>\n",
              "      <td>0</td>\n",
              "      <td>1</td>\n",
              "      <td>0</td>\n",
              "      <td>0</td>\n",
              "      <td>0</td>\n",
              "      <td>0</td>\n",
              "      <td>0</td>\n",
              "    </tr>\n",
              "    <tr>\n",
              "      <th>3</th>\n",
              "      <td>0</td>\n",
              "      <td>0</td>\n",
              "      <td>1</td>\n",
              "      <td>0</td>\n",
              "      <td>0</td>\n",
              "      <td>0</td>\n",
              "      <td>1</td>\n",
              "      <td>1</td>\n",
              "      <td>1</td>\n",
              "    </tr>\n",
              "    <tr>\n",
              "      <th>4</th>\n",
              "      <td>0</td>\n",
              "      <td>1</td>\n",
              "      <td>1</td>\n",
              "      <td>0</td>\n",
              "      <td>0</td>\n",
              "      <td>0</td>\n",
              "      <td>0</td>\n",
              "      <td>0</td>\n",
              "      <td>0</td>\n",
              "    </tr>\n",
              "  </tbody>\n",
              "</table>\n",
              "</div>\n",
              "      <button class=\"colab-df-convert\" onclick=\"convertToInteractive('df-6aea1b4a-35cb-4bd0-945d-8de47c31103c')\"\n",
              "              title=\"Convert this dataframe to an interactive table.\"\n",
              "              style=\"display:none;\">\n",
              "        \n",
              "  <svg xmlns=\"http://www.w3.org/2000/svg\" height=\"24px\"viewBox=\"0 0 24 24\"\n",
              "       width=\"24px\">\n",
              "    <path d=\"M0 0h24v24H0V0z\" fill=\"none\"/>\n",
              "    <path d=\"M18.56 5.44l.94 2.06.94-2.06 2.06-.94-2.06-.94-.94-2.06-.94 2.06-2.06.94zm-11 1L8.5 8.5l.94-2.06 2.06-.94-2.06-.94L8.5 2.5l-.94 2.06-2.06.94zm10 10l.94 2.06.94-2.06 2.06-.94-2.06-.94-.94-2.06-.94 2.06-2.06.94z\"/><path d=\"M17.41 7.96l-1.37-1.37c-.4-.4-.92-.59-1.43-.59-.52 0-1.04.2-1.43.59L10.3 9.45l-7.72 7.72c-.78.78-.78 2.05 0 2.83L4 21.41c.39.39.9.59 1.41.59.51 0 1.02-.2 1.41-.59l7.78-7.78 2.81-2.81c.8-.78.8-2.07 0-2.86zM5.41 20L4 18.59l7.72-7.72 1.47 1.35L5.41 20z\"/>\n",
              "  </svg>\n",
              "      </button>\n",
              "      \n",
              "  <style>\n",
              "    .colab-df-container {\n",
              "      display:flex;\n",
              "      flex-wrap:wrap;\n",
              "      gap: 12px;\n",
              "    }\n",
              "\n",
              "    .colab-df-convert {\n",
              "      background-color: #E8F0FE;\n",
              "      border: none;\n",
              "      border-radius: 50%;\n",
              "      cursor: pointer;\n",
              "      display: none;\n",
              "      fill: #1967D2;\n",
              "      height: 32px;\n",
              "      padding: 0 0 0 0;\n",
              "      width: 32px;\n",
              "    }\n",
              "\n",
              "    .colab-df-convert:hover {\n",
              "      background-color: #E2EBFA;\n",
              "      box-shadow: 0px 1px 2px rgba(60, 64, 67, 0.3), 0px 1px 3px 1px rgba(60, 64, 67, 0.15);\n",
              "      fill: #174EA6;\n",
              "    }\n",
              "\n",
              "    [theme=dark] .colab-df-convert {\n",
              "      background-color: #3B4455;\n",
              "      fill: #D2E3FC;\n",
              "    }\n",
              "\n",
              "    [theme=dark] .colab-df-convert:hover {\n",
              "      background-color: #434B5C;\n",
              "      box-shadow: 0px 1px 3px 1px rgba(0, 0, 0, 0.15);\n",
              "      filter: drop-shadow(0px 1px 2px rgba(0, 0, 0, 0.3));\n",
              "      fill: #FFFFFF;\n",
              "    }\n",
              "  </style>\n",
              "\n",
              "      <script>\n",
              "        const buttonEl =\n",
              "          document.querySelector('#df-6aea1b4a-35cb-4bd0-945d-8de47c31103c button.colab-df-convert');\n",
              "        buttonEl.style.display =\n",
              "          google.colab.kernel.accessAllowed ? 'block' : 'none';\n",
              "\n",
              "        async function convertToInteractive(key) {\n",
              "          const element = document.querySelector('#df-6aea1b4a-35cb-4bd0-945d-8de47c31103c');\n",
              "          const dataTable =\n",
              "            await google.colab.kernel.invokeFunction('convertToInteractive',\n",
              "                                                     [key], {});\n",
              "          if (!dataTable) return;\n",
              "\n",
              "          const docLinkHtml = 'Like what you see? Visit the ' +\n",
              "            '<a target=\"_blank\" href=https://colab.research.google.com/notebooks/data_table.ipynb>data table notebook</a>'\n",
              "            + ' to learn more about interactive tables.';\n",
              "          element.innerHTML = '';\n",
              "          dataTable['output_type'] = 'display_data';\n",
              "          await google.colab.output.renderOutput(dataTable, element);\n",
              "          const docLink = document.createElement('div');\n",
              "          docLink.innerHTML = docLinkHtml;\n",
              "          element.appendChild(docLink);\n",
              "        }\n",
              "      </script>\n",
              "    </div>\n",
              "  </div>\n",
              "  "
            ]
          },
          "metadata": {},
          "execution_count": 208
        }
      ]
    },
    {
      "cell_type": "code",
      "source": [
        "Y = df.HeartDisease \n",
        "X = df.iloc[:,:8]\n",
        "#select= ['age','anaemia','']"
      ],
      "metadata": {
        "id": "By9MsUQkDoY-"
      },
      "execution_count": 209,
      "outputs": []
    },
    {
      "cell_type": "code",
      "source": [
        "X.info()"
      ],
      "metadata": {
        "colab": {
          "base_uri": "https://localhost:8080/"
        },
        "id": "zEooqVQ2I0N7",
        "outputId": "4d1ad4b3-7b0c-4932-d2d6-d330256d4dd4"
      },
      "execution_count": 210,
      "outputs": [
        {
          "output_type": "stream",
          "name": "stdout",
          "text": [
            "<class 'pandas.core.frame.DataFrame'>\n",
            "RangeIndex: 918 entries, 0 to 917\n",
            "Data columns (total 8 columns):\n",
            " #   Column          Non-Null Count  Dtype\n",
            "---  ------          --------------  -----\n",
            " 0   Age             918 non-null    int64\n",
            " 1   Sex             918 non-null    int64\n",
            " 2   RestingBP       918 non-null    int64\n",
            " 3   Cholesterol     918 non-null    int64\n",
            " 4   FastingBS       918 non-null    int64\n",
            " 5   MaxHR           918 non-null    int64\n",
            " 6   ExerciseAngina  918 non-null    int64\n",
            " 7   Oldpeak         918 non-null    int64\n",
            "dtypes: int64(8)\n",
            "memory usage: 57.5 KB\n"
          ]
        }
      ]
    },
    {
      "cell_type": "code",
      "source": [
        "X_train, X_test, y_train, y_test = train_test_split(X, Y, test_size=0.30, random_state=42)"
      ],
      "metadata": {
        "id": "YPxsWEsmPONI"
      },
      "execution_count": 211,
      "outputs": []
    },
    {
      "cell_type": "code",
      "source": [
        "# network parameters\n",
        "batch_size = 128\n",
        "hidden_units = 256\n",
        "from keras.layers import Dense, Activation\n"
      ],
      "metadata": {
        "id": "WrziNkbESLAx"
      },
      "execution_count": 212,
      "outputs": []
    },
    {
      "cell_type": "code",
      "source": [
        "num_labels = len(np.unique(y_train))\n",
        "y_train.shape"
      ],
      "metadata": {
        "colab": {
          "base_uri": "https://localhost:8080/"
        },
        "id": "iJOnTEGDaGOF",
        "outputId": "a938b351-c856-4dd3-ae44-4d6758a33d96"
      },
      "execution_count": 213,
      "outputs": [
        {
          "output_type": "execute_result",
          "data": {
            "text/plain": [
              "(642,)"
            ]
          },
          "metadata": {},
          "execution_count": 213
        }
      ]
    },
    {
      "cell_type": "code",
      "source": [
        "model = Sequential()\n",
        "model.add(Dense(128, input_dim=8))\n",
        "model.add(Activation('relu'))\n",
        "model.add(Dense(32))\n",
        "model.add(Activation('relu'))\n",
        "model.add(Dense(num_labels))\n",
        "model.add(Activation('softmax'))"
      ],
      "metadata": {
        "id": "n0yiqz8kRDwB"
      },
      "execution_count": 214,
      "outputs": []
    },
    {
      "cell_type": "code",
      "source": [
        "X_train, X_test, y_train, y_test = train_test_split(X, Y, test_size=0.20, random_state=42)\n",
        "from keras.utils import np_utils\n",
        "# convert to one-hot vector\n",
        "y_train1 = np_utils.to_categorical(y_train)\n",
        "y_test1 = np_utils.to_categorical(y_test)\n",
        "model.compile(loss='binary_crossentropy', optimizer='adam', metrics=['accuracy'])"
      ],
      "metadata": {
        "id": "aadENlG-Tera"
      },
      "execution_count": 215,
      "outputs": []
    },
    {
      "cell_type": "code",
      "source": [
        "X_train.shape\n",
        "#X_train = np.reshape(X_train, [-1, 12])\n",
        "X_train.shape"
      ],
      "metadata": {
        "colab": {
          "base_uri": "https://localhost:8080/"
        },
        "id": "EDw5l2QKWapk",
        "outputId": "d4f0481a-6e65-4ec7-fd53-cd8fafa4020b"
      },
      "execution_count": 216,
      "outputs": [
        {
          "output_type": "execute_result",
          "data": {
            "text/plain": [
              "(734, 8)"
            ]
          },
          "metadata": {},
          "execution_count": 216
        }
      ]
    },
    {
      "cell_type": "code",
      "source": [
        "y_train1.shape"
      ],
      "metadata": {
        "colab": {
          "base_uri": "https://localhost:8080/"
        },
        "id": "CNL7GzDEYcgl",
        "outputId": "2b93297b-deeb-4ee6-8fb0-c852fbb7f851"
      },
      "execution_count": 217,
      "outputs": [
        {
          "output_type": "execute_result",
          "data": {
            "text/plain": [
              "(734, 2)"
            ]
          },
          "metadata": {},
          "execution_count": 217
        }
      ]
    },
    {
      "cell_type": "code",
      "source": [
        "model.fit(X_train, y_train1, epochs=20, batch_size=batch_size)"
      ],
      "metadata": {
        "colab": {
          "base_uri": "https://localhost:8080/"
        },
        "id": "zSVYKlczTnPV",
        "outputId": "aa6a0b3b-e3a9-4689-df73-afdb37b2d6d0"
      },
      "execution_count": 218,
      "outputs": [
        {
          "output_type": "stream",
          "name": "stdout",
          "text": [
            "Epoch 1/20\n",
            "6/6 [==============================] - 1s 6ms/step - loss: 0.6780 - accuracy: 0.5572\n",
            "Epoch 2/20\n",
            "6/6 [==============================] - 0s 4ms/step - loss: 0.6485 - accuracy: 0.5777\n",
            "Epoch 3/20\n",
            "6/6 [==============================] - 0s 4ms/step - loss: 0.6219 - accuracy: 0.6403\n",
            "Epoch 4/20\n",
            "6/6 [==============================] - 0s 3ms/step - loss: 0.5966 - accuracy: 0.6757\n",
            "Epoch 5/20\n",
            "6/6 [==============================] - 0s 4ms/step - loss: 0.5708 - accuracy: 0.7357\n",
            "Epoch 6/20\n",
            "6/6 [==============================] - 0s 4ms/step - loss: 0.5470 - accuracy: 0.7548\n",
            "Epoch 7/20\n",
            "6/6 [==============================] - 0s 5ms/step - loss: 0.5233 - accuracy: 0.7793\n",
            "Epoch 8/20\n",
            "6/6 [==============================] - 0s 6ms/step - loss: 0.5030 - accuracy: 0.7807\n",
            "Epoch 9/20\n",
            "6/6 [==============================] - 0s 4ms/step - loss: 0.4849 - accuracy: 0.7875\n",
            "Epoch 10/20\n",
            "6/6 [==============================] - 0s 4ms/step - loss: 0.4729 - accuracy: 0.8011\n",
            "Epoch 11/20\n",
            "6/6 [==============================] - 0s 4ms/step - loss: 0.4626 - accuracy: 0.8065\n",
            "Epoch 12/20\n",
            "6/6 [==============================] - 0s 4ms/step - loss: 0.4563 - accuracy: 0.8011\n",
            "Epoch 13/20\n",
            "6/6 [==============================] - 0s 4ms/step - loss: 0.4493 - accuracy: 0.8011\n",
            "Epoch 14/20\n",
            "6/6 [==============================] - 0s 4ms/step - loss: 0.4468 - accuracy: 0.8025\n",
            "Epoch 15/20\n",
            "6/6 [==============================] - 0s 4ms/step - loss: 0.4421 - accuracy: 0.8120\n",
            "Epoch 16/20\n",
            "6/6 [==============================] - 0s 4ms/step - loss: 0.4390 - accuracy: 0.8038\n",
            "Epoch 17/20\n",
            "6/6 [==============================] - 0s 4ms/step - loss: 0.4372 - accuracy: 0.8025\n",
            "Epoch 18/20\n",
            "6/6 [==============================] - 0s 4ms/step - loss: 0.4339 - accuracy: 0.8065\n",
            "Epoch 19/20\n",
            "6/6 [==============================] - 0s 5ms/step - loss: 0.4329 - accuracy: 0.8065\n",
            "Epoch 20/20\n",
            "6/6 [==============================] - 0s 4ms/step - loss: 0.4299 - accuracy: 0.8065\n"
          ]
        },
        {
          "output_type": "execute_result",
          "data": {
            "text/plain": [
              "<keras.callbacks.History at 0x7f28c6374550>"
            ]
          },
          "metadata": {},
          "execution_count": 218
        }
      ]
    },
    {
      "cell_type": "code",
      "source": [
        "loss, acc = model.evaluate(X_test, y_test1)\n",
        "print(\"\\nTest accuracy: %.1f%%\" % (100.0 * acc))"
      ],
      "metadata": {
        "colab": {
          "base_uri": "https://localhost:8080/"
        },
        "id": "R7eupKTkDANh",
        "outputId": "8f2d74c1-1d89-40c3-858e-d807d20af32d"
      },
      "execution_count": 219,
      "outputs": [
        {
          "output_type": "stream",
          "name": "stdout",
          "text": [
            "6/6 [==============================] - 0s 3ms/step - loss: 0.5167 - accuracy: 0.7446\n",
            "\n",
            "Test accuracy: 74.5%\n"
          ]
        }
      ]
    },
    {
      "cell_type": "code",
      "source": [
        "X = df[selected_feat]\n",
        "Y = df.HeartDisease"
      ],
      "metadata": {
        "id": "Uszic-uU_6p8"
      },
      "execution_count": 220,
      "outputs": []
    },
    {
      "cell_type": "code",
      "source": [
        "model = Sequential()\n",
        "model.add(Dense(128, input_dim=len(selected_feat)))\n",
        "model.add(Activation('relu'))\n",
        "model.add(Dense(32))\n",
        "model.add(Activation('relu'))\n",
        "model.add(Dense(num_labels))\n",
        "model.add(Activation('softmax'))"
      ],
      "metadata": {
        "id": "FDPhOJ5yAX7l"
      },
      "execution_count": 221,
      "outputs": []
    },
    {
      "cell_type": "code",
      "source": [
        "X_train, X_test, y_train, y_test = train_test_split(X, Y, test_size=0.20, random_state=42)\n",
        "from keras.utils import np_utils\n",
        "# convert to one-hot vector\n",
        "y_train1 = np_utils.to_categorical(y_train)\n",
        "y_test1 = np_utils.to_categorical(y_test)\n",
        "model.compile(loss='categorical_crossentropy', optimizer='adam', metrics=['accuracy'])"
      ],
      "metadata": {
        "id": "QBaArIkBAGuv"
      },
      "execution_count": 222,
      "outputs": []
    },
    {
      "cell_type": "code",
      "source": [
        "model.fit(X_train, y_train1, epochs=10, batch_size=batch_size)"
      ],
      "metadata": {
        "colab": {
          "base_uri": "https://localhost:8080/"
        },
        "id": "Bi84AzCCAO1a",
        "outputId": "ebfb2701-5743-4f65-b536-fa9702ecc4cc"
      },
      "execution_count": 223,
      "outputs": [
        {
          "output_type": "stream",
          "name": "stdout",
          "text": [
            "Epoch 1/10\n",
            "6/6 [==============================] - 0s 4ms/step - loss: 0.6622 - accuracy: 0.5559\n",
            "Epoch 2/10\n",
            "6/6 [==============================] - 0s 4ms/step - loss: 0.6089 - accuracy: 0.6049\n",
            "Epoch 3/10\n",
            "6/6 [==============================] - 0s 3ms/step - loss: 0.5710 - accuracy: 0.7371\n",
            "Epoch 4/10\n",
            "6/6 [==============================] - 0s 3ms/step - loss: 0.5386 - accuracy: 0.7820\n",
            "Epoch 5/10\n",
            "6/6 [==============================] - 0s 4ms/step - loss: 0.5096 - accuracy: 0.7929\n",
            "Epoch 6/10\n",
            "6/6 [==============================] - 0s 3ms/step - loss: 0.4893 - accuracy: 0.8011\n",
            "Epoch 7/10\n",
            "6/6 [==============================] - 0s 3ms/step - loss: 0.4743 - accuracy: 0.7984\n",
            "Epoch 8/10\n",
            "6/6 [==============================] - 0s 3ms/step - loss: 0.4665 - accuracy: 0.7956\n",
            "Epoch 9/10\n",
            "6/6 [==============================] - 0s 4ms/step - loss: 0.4619 - accuracy: 0.8011\n",
            "Epoch 10/10\n",
            "6/6 [==============================] - 0s 3ms/step - loss: 0.4604 - accuracy: 0.7956\n"
          ]
        },
        {
          "output_type": "execute_result",
          "data": {
            "text/plain": [
              "<keras.callbacks.History at 0x7f28c61ef150>"
            ]
          },
          "metadata": {},
          "execution_count": 223
        }
      ]
    },
    {
      "cell_type": "code",
      "source": [
        "loss, acc = model.evaluate(X_test, y_test1, batch_size=batch_size)\n",
        "print(\"\\nTest accuracy: %.1f%%\" % (100.0 * acc))"
      ],
      "metadata": {
        "colab": {
          "base_uri": "https://localhost:8080/"
        },
        "id": "XMMM0UAJBPbF",
        "outputId": "a9ac621e-ca3b-4994-ed9c-abc737a2c32b"
      },
      "execution_count": 224,
      "outputs": [
        {
          "output_type": "stream",
          "name": "stdout",
          "text": [
            "2/2 [==============================] - 0s 9ms/step - loss: 0.5528 - accuracy: 0.6957\n",
            "\n",
            "Test accuracy: 69.6%\n"
          ]
        }
      ]
    },
    {
      "cell_type": "markdown",
      "source": [
        "# Using SVM"
      ],
      "metadata": {
        "id": "x4jclphEIB0R"
      }
    },
    {
      "cell_type": "code",
      "source": [
        "from sklearn.svm import SVC\n",
        "kernel_lim =  {'linear', 'poly', 'rbf', 'sigmoid'}\n",
        "C_lim  = {0.5,1,1.5,2,2.5,3,3.5,4,4.5,5} \n",
        "bestC = 0\n",
        "bestK = 0\n",
        "acc = 0\n",
        "for kernel1 in kernel_lim:\n",
        "  for C1 in C_lim:\n",
        "    model = SVC(C=C1,kernel=kernel1)\n",
        "    model.fit(X_train, y_train)\n",
        "    score = model.score(X_test, y_test)\n",
        "    #print ('Kernel is: ' +kernel1 , 'Value of C is: ',C1, \"Accuracy is: \",score*100)\n",
        "    if acc < (score*100):\n",
        "      bestK= kernel1\n",
        "      bestC = C1\n",
        "      acc = score*100\n",
        "print(\"\\n\\nBest Model is with Accuracy: \", acc,\"with kernel: \",bestK,\"and Value of C: \",bestC)"
      ],
      "metadata": {
        "colab": {
          "base_uri": "https://localhost:8080/"
        },
        "id": "qXqfvNKwT_2r",
        "outputId": "f6745f0d-1334-410f-874e-bb396d3ec60d"
      },
      "execution_count": 225,
      "outputs": [
        {
          "output_type": "stream",
          "name": "stdout",
          "text": [
            "\n",
            "\n",
            "Best Model is with Accuracy:  72.82608695652173 with kernel:  linear and Value of C:  1.5\n"
          ]
        }
      ]
    },
    {
      "cell_type": "markdown",
      "source": [
        "# Naive Bayes"
      ],
      "metadata": {
        "id": "xokocgPWI5DT"
      }
    },
    {
      "cell_type": "code",
      "source": [
        "from sklearn.naive_bayes import GaussianNB\n",
        "\n",
        "#Create a Gaussian Classifier\n",
        "model = GaussianNB()\n",
        "model.fit(X_train, y_train)\n",
        "score = model.score(X_test, y_test)\n",
        "print(\"accuracy=%.2f%%\" % (score * 100))"
      ],
      "metadata": {
        "colab": {
          "base_uri": "https://localhost:8080/"
        },
        "id": "6k4-IkPDI26S",
        "outputId": "b062badc-7062-4de6-82c7-95e62647cad1"
      },
      "execution_count": 226,
      "outputs": [
        {
          "output_type": "stream",
          "name": "stdout",
          "text": [
            "accuracy=70.11%\n"
          ]
        }
      ]
    },
    {
      "cell_type": "markdown",
      "source": [
        "# Decision Trees"
      ],
      "metadata": {
        "id": "dwOHUX_lgnCm"
      }
    },
    {
      "cell_type": "code",
      "source": [
        "from sklearn.datasets import load_iris # Import dataset\n",
        "from sklearn import tree # tree class \n",
        "\n",
        "Y = df.HeartDisease \n",
        "X = df.iloc[:,:8]\n",
        "X_train, X_test, y_train, y_test = train_test_split(X, Y, test_size=0.30, random_state=42)\n",
        "\n",
        "clf = tree.DecisionTreeClassifier(criterion = 'entropy',splitter='random',max_depth=5) # makeing a tree model (all default parameters are used) - details of parameters are given below\n",
        "clf = clf.fit(X_train, y_train) \n",
        "score= clf.score(X_test,y_test)\n",
        "print(f'Decision tree having entropy with random splitting has model score : {score*100}')"
      ],
      "metadata": {
        "colab": {
          "base_uri": "https://localhost:8080/"
        },
        "id": "kezesn8Ce5Zn",
        "outputId": "75a93892-b58c-4363-94ba-e84553be15e3"
      },
      "execution_count": 234,
      "outputs": [
        {
          "output_type": "stream",
          "name": "stdout",
          "text": [
            "Decision tree having entropy with random splitting has model score : 77.53623188405797\n"
          ]
        }
      ]
    },
    {
      "cell_type": "markdown",
      "source": [
        "# **Implementation of Paper**"
      ],
      "metadata": {
        "id": "ybBaovrbiklc"
      }
    },
    {
      "cell_type": "code",
      "source": [
        "#Algorithm 3\n",
        "def directKb(data):\n",
        "  counts = dict()\n",
        "  Kd =  dict()\n",
        "  feavals = []\n",
        "  for entry in data:\n",
        "    features = selected_feat\n",
        "    for i in range(len(features)):\n",
        "      feavals.append(features[i],data.iloc[features[i]][i])\n",
        "      label = data.HeartDisease[i]\n",
        "      s = powerset(feavals)\n",
        "      for key in s:\n",
        "        if key in counts:\n",
        "          counts[key]= counts[key] + [1, label]\n",
        "        else:\n",
        "          counts[key] = [1, label]\n",
        "    \n",
        "    for key in counts:\n",
        "      r = counts[key][1]/counts[key][0]\n",
        "       Kd[key] = r\n",
        "\n",
        "  return Kd\n"
      ],
      "metadata": {
        "id": "HzBw_PU9irdX"
      },
      "execution_count": null,
      "outputs": []
    },
    {
      "cell_type": "code",
      "source": [
        "#Algorithm 4\n",
        "def QUERYKB(query,Lk):\n",
        "  for key, value in query.items(): \n",
        "    if query[key] == value:\n",
        "      Lk[key][value] = Lk[key][value]+ 1\n",
        "    else:\n",
        "      Lk[key][value] = 0\n",
        "  \n",
        "  return Lk\n"
      ],
      "metadata": {
        "id": "ZVhKMOIspJHn"
      },
      "execution_count": null,
      "outputs": []
    },
    {
      "cell_type": "code",
      "source": [
        "#Algorithm 5\n",
        "def QUERYRELEVANT(Q,KD):\n",
        "  relevantKB = dict()\n",
        "  for key,val in Q.items():\n",
        "      feavals.append(key,val)\n",
        "  s = powerset(feavals,Kb)\n",
        "  for key in s:\n",
        "    for clause in key:\n",
        "      relevantKB.append(clause)\n",
        "  return relevantKB"
      ],
      "metadata": {
        "id": "xPn13MpdsU4M"
      },
      "execution_count": null,
      "outputs": []
    },
    {
      "cell_type": "code",
      "source": [
        "#Algorithm 6\n",
        "def COMPUTEEXPLANATION(Q,LK, k):\n",
        "  if QUERYKB(Q,LK) > O.5:\n",
        "    return max ( QUERYKB(Q,LK) )\n",
        "  else:\n",
        "    return min(QUERYKB(Q,LK) )"
      ],
      "metadata": {
        "id": "nhxsq1uvu5Ai"
      },
      "execution_count": null,
      "outputs": []
    }
  ]
}